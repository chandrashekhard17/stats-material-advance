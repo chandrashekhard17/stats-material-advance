{
 "cells": [
  {
   "cell_type": "code",
   "execution_count": 1,
   "id": "41ffd5f0",
   "metadata": {},
   "outputs": [
    {
     "data": {
      "text/plain": [
       "\"The main differences between a t-test and a z-test are related to the sample size and the standard deviation:\\n\\n1. **Sample Size and Standard Deviation:**\\n   - **Z-Test**: Typically used when the sample size is large (usually n > 30) and the population standard deviation is known. It assumes that the sampling distribution of the sample mean is approximately normally distributed.\\n   - **T-Test**: Used when the sample size is small (usually n ≤ 30) or the population standard deviation is unknown. It uses the sample standard deviation as an estimate of the population standard deviation, and the distribution of the test statistic follows the t-distribution, which accounts for the increased variability with smaller sample sizes.\\n\\n2. **Distribution:**\\n   - **Z-Test**: The test statistic follows the standard normal distribution (Z-distribution).\\n   - **T-Test**: The test statistic follows the t-distribution, which is similar to the standard normal distribution but has thicker tails.\\n\\n### Examples\\n\\n- **Z-Test Scenario:**\\n  Suppose a manufacturer claims that their light bulbs last an average of 1000 hours. You collect a large sample of 50 bulbs and find that the sample mean is 995 hours with a known population standard deviation of 10 hours. To test if there is a significant difference between the sample mean and the claimed mean, you would use a z-test because the sample size is large and the population standard deviation is known.\\n\\n- **T-Test Scenario:**\\n  Imagine you're studying the effect of a new teaching method on student performance. You only have a small sample of 15 students who were taught using the new method and their scores are compared to a historical mean score of 75. Since the sample size is small and you don’t know the population standard deviation, you would use a t-test to determine if there\""
      ]
     },
     "execution_count": 1,
     "metadata": {},
     "output_type": "execute_result"
    }
   ],
   "source": [
    "#1...\n",
    "\"\"\"The main differences between a t-test and a z-test are related to the sample size and the standard deviation:\n",
    "\n",
    "1. **Sample Size and Standard Deviation:**\n",
    "   - **Z-Test**: Typically used when the sample size is large (usually n > 30) and the population standard deviation is known. It assumes that the sampling distribution of the sample mean is approximately normally distributed.\n",
    "   - **T-Test**: Used when the sample size is small (usually n ≤ 30) or the population standard deviation is unknown. It uses the sample standard deviation as an estimate of the population standard deviation, and the distribution of the test statistic follows the t-distribution, which accounts for the increased variability with smaller sample sizes.\n",
    "\n",
    "2. **Distribution:**\n",
    "   - **Z-Test**: The test statistic follows the standard normal distribution (Z-distribution).\n",
    "   - **T-Test**: The test statistic follows the t-distribution, which is similar to the standard normal distribution but has thicker tails.\n",
    "\n",
    "### Examples\n",
    "\n",
    "- **Z-Test Scenario:**\n",
    "  Suppose a manufacturer claims that their light bulbs last an average of 1000 hours. You collect a large sample of 50 bulbs and find that the sample mean is 995 hours with a known population standard deviation of 10 hours. To test if there is a significant difference between the sample mean and the claimed mean, you would use a z-test because the sample size is large and the population standard deviation is known.\n",
    "\n",
    "- **T-Test Scenario:**\n",
    "  Imagine you're studying the effect of a new teaching method on student performance. You only have a small sample of 15 students who were taught using the new method and their scores are compared to a historical mean score of 75. Since the sample size is small and you don’t know the population standard deviation, you would use a t-test to determine if there\"\"\""
   ]
  },
  {
   "cell_type": "code",
   "execution_count": 2,
   "id": "d01b4bb7",
   "metadata": {},
   "outputs": [
    {
     "data": {
      "text/plain": [
       "'1.One tail test only have one condition which we would be satisfied and that to mainly either increasing or decreasing\\n   2.two tail test have both the condition whether it would be increasing or it may be decreasing'"
      ]
     },
     "execution_count": 2,
     "metadata": {},
     "output_type": "execute_result"
    }
   ],
   "source": [
    "#2...\n",
    "\"\"\"1.One tail test only have one condition which we would be satisfied and that to mainly either increasing or decreasing\n",
    "   2.two tail test have both the condition whether it would be increasing or it may be decreasing\"\"\""
   ]
  },
  {
   "cell_type": "code",
   "execution_count": 3,
   "id": "5ab5e65a",
   "metadata": {},
   "outputs": [
    {
     "data": {
      "text/plain": [
       "'outcome 1: we reject the null hypothesis when in reality it is false - good scenario\\n   outcome 2: we reject the null hypothesis when in reality it is true  - type 1 error\\n   outcome 3: we accept the null hypothesis when in reality it is false - type 2 error\\n   outcome 4: we accept the null hypothesis when in reality it is true  - good scenario'"
      ]
     },
     "execution_count": 3,
     "metadata": {},
     "output_type": "execute_result"
    }
   ],
   "source": [
    "#3...\n",
    "\"\"\"outcome 1: we reject the null hypothesis when in reality it is false - good scenario\n",
    "   outcome 2: we reject the null hypothesis when in reality it is true  - type 1 error\n",
    "   outcome 3: we accept the null hypothesis when in reality it is false - type 2 error\n",
    "   outcome 4: we accept the null hypothesis when in reality it is true  - good scenario\"\"\""
   ]
  },
  {
   "cell_type": "code",
   "execution_count": 4,
   "id": "407981b6",
   "metadata": {},
   "outputs": [
    {
     "data": {
      "text/plain": [
       "'Bayesian statistics is an approach to data analysis and parameter estimation based on bayes theoram\\n   they have based on probability  \\n   1. independent events \\n   2. dependent events\\n   formula :  pr(b/a)=((pr(b)*pr(a/b))/pr(a))'"
      ]
     },
     "execution_count": 4,
     "metadata": {},
     "output_type": "execute_result"
    }
   ],
   "source": [
    "#4...\n",
    "\"\"\"Bayesian statistics is an approach to data analysis and parameter estimation based on bayes theoram\n",
    "   they have based on probability  \n",
    "   1. independent events \n",
    "   2. dependent events\n",
    "   formula :  pr(b/a)=((pr(b)*pr(a/b))/pr(a))\"\"\""
   ]
  },
  {
   "cell_type": "code",
   "execution_count": 5,
   "id": "2257435d",
   "metadata": {},
   "outputs": [
    {
     "data": {
      "text/plain": [
       "'A **confidence interval** is a range of values, derived from sample data, that is likely to contain the true population parameter (such as the mean or proportion) with a certain level of confidence. It provides an estimate of the uncertainty or variability in a sample statistic.\\n\\nThe most commonly used confidence level is 95%, but 90% and 99% are also common. A 95% confidence interval means that if you were to take 100 different samples and compute a confidence interval for each sample, approximately 95 of the intervals would contain the true population parameter.\\n\\n### Formula for Confidence Interval for the Mean:\\n\\nFor a **Z-interval** (when the population standard deviation \\\\(\\\\sigma\\\\) is known):\\n\\n\\\\[\\nCI = \\x08ar{x} \\\\pm Z_{\\x07lpha/2} \\\\cdot \\\\left( \\x0crac{\\\\sigma}{\\\\sqrt{n}} \\right)\\n\\\\]\\n\\nFor a **T-interval** (when the population standard deviation is unknown, and we use the sample standard deviation \\\\(s\\\\)):\\n\\n\\\\[\\nCI = \\x08ar{x} \\\\pm t_{\\x07lpha/2} \\\\cdot \\\\left( \\x0crac{s}{\\\\sqrt{n}} \\right)\\n\\\\]\\n\\nWhere:\\n- \\\\(\\x08ar{x}\\\\) = Sample mean\\n- \\\\(Z_{\\x07lpha/2}\\\\) = Z-value corresponding to the confidence level (from the Z-table)\\n- \\\\(t_{\\x07lpha/2}\\\\) = t-value corresponding to the confidence level (from the t-distribution table)\\n- \\\\(\\\\sigma\\\\) = Population standard deviation\\n- \\\\(s\\\\) = Sample standard deviation\\n- \\\\(n\\\\) = Sample size\\n- \\\\(\\x07lpha\\\\) = Significance level (1 - Confidence level)\\n\\n### Example of Confidence Interval Calculation\\n\\nSuppose a researcher collects a sample of 40 students to estimate the average test score. The sample mean is 78, and the population standard deviation is known to be 10. The researcher wants to calculate a 95% confidence interval for the population mean.\\n\\n#### Step 1: Identify the values.\\n- \\\\(\\x08ar{x} = 78\\\\) (sample mean)\\n- \\\\(\\\\sigma = 10\\\\) (population standard deviation)\\n- \\\\(n = 40\\\\) (sample size)\\n- Confidence level = 95%\\n\\n#### Step 2: Find the Z-value.\\nFor a 95% confidence level, \\\\(\\x07lpha = 0.05\\\\), so \\\\(\\x07lpha/2 = 0.025\\\\). The corresponding Z-value is 1.96 (from the Z-table).\\n\\n#### Step 3: Calculate the margin of error.\\n\\\\[\\n\\text{Margin of error} = Z_{\\x07lpha/2} \\\\cdot \\\\left( \\x0crac{\\\\sigma}{\\\\sqrt{n}} \\right)\\n= 1.96 \\\\cdot \\\\left( \\x0crac{10}{\\\\sqrt{40}} \\right)\\n= 1.96 \\\\cdot \\\\left( \\x0crac{10}{6.32} \\right)\\n'"
      ]
     },
     "execution_count": 5,
     "metadata": {},
     "output_type": "execute_result"
    }
   ],
   "source": [
    "#5...\n",
    "\"\"\"A **confidence interval** is a range of values, derived from sample data, that is likely to contain the true population parameter (such as the mean or proportion) with a certain level of confidence. It provides an estimate of the uncertainty or variability in a sample statistic.\n",
    "\n",
    "The most commonly used confidence level is 95%, but 90% and 99% are also common. A 95% confidence interval means that if you were to take 100 different samples and compute a confidence interval for each sample, approximately 95 of the intervals would contain the true population parameter.\n",
    "\n",
    "### Formula for Confidence Interval for the Mean:\n",
    "\n",
    "For a **Z-interval** (when the population standard deviation \\(\\sigma\\) is known):\n",
    "\n",
    "\\[\n",
    "CI = \\bar{x} \\pm Z_{\\alpha/2} \\cdot \\left( \\frac{\\sigma}{\\sqrt{n}} \\right)\n",
    "\\]\n",
    "\n",
    "For a **T-interval** (when the population standard deviation is unknown, and we use the sample standard deviation \\(s\\)):\n",
    "\n",
    "\\[\n",
    "CI = \\bar{x} \\pm t_{\\alpha/2} \\cdot \\left( \\frac{s}{\\sqrt{n}} \\right)\n",
    "\\]\n",
    "\n",
    "Where:\n",
    "- \\(\\bar{x}\\) = Sample mean\n",
    "- \\(Z_{\\alpha/2}\\) = Z-value corresponding to the confidence level (from the Z-table)\n",
    "- \\(t_{\\alpha/2}\\) = t-value corresponding to the confidence level (from the t-distribution table)\n",
    "- \\(\\sigma\\) = Population standard deviation\n",
    "- \\(s\\) = Sample standard deviation\n",
    "- \\(n\\) = Sample size\n",
    "- \\(\\alpha\\) = Significance level (1 - Confidence level)\n",
    "\n",
    "### Example of Confidence Interval Calculation\n",
    "\n",
    "Suppose a researcher collects a sample of 40 students to estimate the average test score. The sample mean is 78, and the population standard deviation is known to be 10. The researcher wants to calculate a 95% confidence interval for the population mean.\n",
    "\n",
    "#### Step 1: Identify the values.\n",
    "- \\(\\bar{x} = 78\\) (sample mean)\n",
    "- \\(\\sigma = 10\\) (population standard deviation)\n",
    "- \\(n = 40\\) (sample size)\n",
    "- Confidence level = 95%\n",
    "\n",
    "#### Step 2: Find the Z-value.\n",
    "For a 95% confidence level, \\(\\alpha = 0.05\\), so \\(\\alpha/2 = 0.025\\). The corresponding Z-value is 1.96 (from the Z-table).\n",
    "\n",
    "#### Step 3: Calculate the margin of error.\n",
    "\\[\n",
    "\\text{Margin of error} = Z_{\\alpha/2} \\cdot \\left( \\frac{\\sigma}{\\sqrt{n}} \\right)\n",
    "= 1.96 \\cdot \\left( \\frac{10}{\\sqrt{40}} \\right)\n",
    "= 1.96 \\cdot \\left( \\frac{10}{6.32} \\right)\n",
    "\"\"\""
   ]
  },
  {
   "cell_type": "code",
   "execution_count": 6,
   "id": "eb912956",
   "metadata": {},
   "outputs": [
    {
     "data": {
      "text/plain": [
       "'**Bayes\\' Theorem** is a mathematical formula used to update the probability of an event occurring based on new evidence. It combines prior knowledge with new information to calculate a revised or \"posterior\" probability.\\n\\n### Formula:\\n\\\\[\\nP(A|B) = \\x0crac{P(B|A) \\\\cdot P(A)}{P(B)}\\n\\\\]\\n\\nWhere:\\n- \\\\( P(A|B) \\\\) = Posterior probability: the probability of event A occurring given that B is true.\\n- \\\\( P(B|A) \\\\) = Likelihood: the probability of event B occurring given that A is true.\\n- \\\\( P(A) \\\\) = Prior probability: the initial probability of event A occurring.\\n- \\\\( P(B) \\\\) = Marginal likelihood: the total probability of event B occurring, considering all possible outcomes.\\n\\n### Example Problem:\\nSuppose a medical test is used to detect a rare disease. The disease affects 1% of the population. The test is 95% accurate, meaning:\\n- If a person has the disease, the test will correctly identify it 95% of the time (\\\\(P(\\text{Positive}|\\text{Disease}) = 0.95\\\\)).\\n- If a person does not have the disease, the test will give a false positive 5% of the time (\\\\(P(\\text{Positive}|\\text{No Disease}) = 0.05\\\\)).\\n\\nGiven that a person tests positive, what is the probability that they actually have the disease?\\n\\n### Solution:\\n\\n#### Step 1: Identify the known values.\\n- \\\\( P(\\text{Disease}) = 0.01 \\\\) (1% of the population has the disease).\\n- \\\\( P(\\text{No Disease}) = 1 - P(\\text{Disease}) = 0.99 \\\\).\\n- \\\\( P(\\text{Positive}|\\text{Disease}) = 0.95 \\\\) (test correctly identifies the disease).\\n- \\\\( P(\\text{Positive}|\\text{No Disease}) = 0.05 \\\\) (false positive rate).\\n\\n#### Step 2: Calculate \\\\( P(\\text{Positive}) \\\\), the total probability of testing positive.\\n\\\\[\\nP(\\text{Positive}) = P(\\text{Positive}|\\text{Disease}) \\\\cdot P(\\text{Disease}) + P(\\text{Positive}|\\text{No Disease}) \\\\cdot P(\\text{No Disease})\\n\\\\]\\n\\\\[\\nP(\\text{Positive}) = (0.95 \\\\cdot 0.01) + (0.05 \\\\cdot 0.99)\\n\\\\]\\n\\\\[\\nP(\\text{Positive}) = 0.0095 + 0.0495 = 0.059\\n\\\\]\\n\\n#### Step 3: Apply Bayes\\' Theorem.\\n\\\\[\\nP(\\text{Disease}|\\text{Positive}) = \\x0crac{P(\\text{Positive}|\\text{Disease}) \\\\cdot P(\\text{Disease})}{P(\\text{Positive})}\\n\\\\]\\n\\\\[\\nP(\\text{Disease}|\\text{Positive}) = \\x0crac{0.95 \\\\cdot 0.01}{0.059} = \\x0crac{0.0095}{0.059} \\x07pprox 0.161\\n\\\\]\\n\\n#### Conclusion:\\nThe probability that a person actually has the disease, given that they tested positive, is approximately **16.1%**. Despite the test being 95% accurate, the low prevalence of the disease in the population makes it less likely that a positive test means the person has the disease.\\n\\nThis result highlights how Bayes\\' Theorem accounts for both the accuracy of the test and the rarity of the event.'"
      ]
     },
     "execution_count": 6,
     "metadata": {},
     "output_type": "execute_result"
    }
   ],
   "source": [
    "#6\n",
    "\"\"\"**Bayes' Theorem** is a mathematical formula used to update the probability of an event occurring based on new evidence. It combines prior knowledge with new information to calculate a revised or \"posterior\" probability.\n",
    "\n",
    "### Formula:\n",
    "\\[\n",
    "P(A|B) = \\frac{P(B|A) \\cdot P(A)}{P(B)}\n",
    "\\]\n",
    "\n",
    "Where:\n",
    "- \\( P(A|B) \\) = Posterior probability: the probability of event A occurring given that B is true.\n",
    "- \\( P(B|A) \\) = Likelihood: the probability of event B occurring given that A is true.\n",
    "- \\( P(A) \\) = Prior probability: the initial probability of event A occurring.\n",
    "- \\( P(B) \\) = Marginal likelihood: the total probability of event B occurring, considering all possible outcomes.\n",
    "\n",
    "### Example Problem:\n",
    "Suppose a medical test is used to detect a rare disease. The disease affects 1% of the population. The test is 95% accurate, meaning:\n",
    "- If a person has the disease, the test will correctly identify it 95% of the time (\\(P(\\text{Positive}|\\text{Disease}) = 0.95\\)).\n",
    "- If a person does not have the disease, the test will give a false positive 5% of the time (\\(P(\\text{Positive}|\\text{No Disease}) = 0.05\\)).\n",
    "\n",
    "Given that a person tests positive, what is the probability that they actually have the disease?\n",
    "\n",
    "### Solution:\n",
    "\n",
    "#### Step 1: Identify the known values.\n",
    "- \\( P(\\text{Disease}) = 0.01 \\) (1% of the population has the disease).\n",
    "- \\( P(\\text{No Disease}) = 1 - P(\\text{Disease}) = 0.99 \\).\n",
    "- \\( P(\\text{Positive}|\\text{Disease}) = 0.95 \\) (test correctly identifies the disease).\n",
    "- \\( P(\\text{Positive}|\\text{No Disease}) = 0.05 \\) (false positive rate).\n",
    "\n",
    "#### Step 2: Calculate \\( P(\\text{Positive}) \\), the total probability of testing positive.\n",
    "\\[\n",
    "P(\\text{Positive}) = P(\\text{Positive}|\\text{Disease}) \\cdot P(\\text{Disease}) + P(\\text{Positive}|\\text{No Disease}) \\cdot P(\\text{No Disease})\n",
    "\\]\n",
    "\\[\n",
    "P(\\text{Positive}) = (0.95 \\cdot 0.01) + (0.05 \\cdot 0.99)\n",
    "\\]\n",
    "\\[\n",
    "P(\\text{Positive}) = 0.0095 + 0.0495 = 0.059\n",
    "\\]\n",
    "\n",
    "#### Step 3: Apply Bayes' Theorem.\n",
    "\\[\n",
    "P(\\text{Disease}|\\text{Positive}) = \\frac{P(\\text{Positive}|\\text{Disease}) \\cdot P(\\text{Disease})}{P(\\text{Positive})}\n",
    "\\]\n",
    "\\[\n",
    "P(\\text{Disease}|\\text{Positive}) = \\frac{0.95 \\cdot 0.01}{0.059} = \\frac{0.0095}{0.059} \\approx 0.161\n",
    "\\]\n",
    "\n",
    "#### Conclusion:\n",
    "The probability that a person actually has the disease, given that they tested positive, is approximately **16.1%**. Despite the test being 95% accurate, the low prevalence of the disease in the population makes it less likely that a positive test means the person has the disease.\n",
    "\n",
    "This result highlights how Bayes' Theorem accounts for both the accuracy of the test and the rarity of the event.\"\"\""
   ]
  },
  {
   "cell_type": "code",
   "execution_count": 7,
   "id": "b5a42136",
   "metadata": {},
   "outputs": [
    {
     "data": {
      "text/plain": [
       "'To calculate the 95% confidence interval for a sample of data, we use the following formula:\\n\\n\\\\[\\nCI = \\x08ar{x} \\\\pm Z_{\\x07lpha/2} \\\\cdot \\\\left( \\x0crac{\\\\sigma}{\\\\sqrt{n}} \\right)\\n\\\\]\\n\\nWhere:\\n- \\\\(\\x08ar{x}\\\\) = Sample mean = 50\\n- \\\\(\\\\sigma\\\\) = Standard deviation = 5\\n- \\\\(n\\\\) = Sample size (not given, but let’s assume \\\\(n = 30\\\\) for this example)\\n- \\\\(Z_{\\x07lpha/2}\\\\) = Z-value corresponding to the confidence level (for 95%, \\\\(Z_{\\x07lpha/2} = 1.96\\\\))\\n\\n### Step-by-Step Calculation:\\n\\n#### Step 1: Calculate the margin of error.\\n\\\\[\\n\\text{Margin of error} = Z_{\\x07lpha/2} \\\\cdot \\\\left( \\x0crac{\\\\sigma}{\\\\sqrt{n}} \\right)\\n= 1.96 \\\\cdot \\\\left( \\x0crac{5}{\\\\sqrt{30}} \\right)\\n\\\\]\\n\\\\[\\n= 1.96 \\\\cdot \\\\left( \\x0crac{5}{5.477} \\right)\\n= 1.96 \\\\cdot 0.913 = 1.79\\n\\\\]\\n\\n#### Step 2: Calculate the confidence interval.\\n\\\\[\\nCI = \\x08ar{x} \\\\pm \\text{Margin of error}\\n= 50 \\\\pm 1.79\\n\\\\]\\n\\nSo the 95% confidence interval is:\\n\\\\[\\n[50 - 1.79, 50 + 1.79] = [48.21, 51.79]\\n\\\\]\\n\\n### Interpretation:\\nWe are 95% confident that the true population mean lies between **48.21 and 51.79**. This means that if we were to take multiple samples and compute confidence intervals, approximately 95% of them would contain the true population mean.'"
      ]
     },
     "execution_count": 7,
     "metadata": {},
     "output_type": "execute_result"
    }
   ],
   "source": [
    "#7..\n",
    "\"\"\"To calculate the 95% confidence interval for a sample of data, we use the following formula:\n",
    "\n",
    "\\[\n",
    "CI = \\bar{x} \\pm Z_{\\alpha/2} \\cdot \\left( \\frac{\\sigma}{\\sqrt{n}} \\right)\n",
    "\\]\n",
    "\n",
    "Where:\n",
    "- \\(\\bar{x}\\) = Sample mean = 50\n",
    "- \\(\\sigma\\) = Standard deviation = 5\n",
    "- \\(n\\) = Sample size (not given, but let’s assume \\(n = 30\\) for this example)\n",
    "- \\(Z_{\\alpha/2}\\) = Z-value corresponding to the confidence level (for 95%, \\(Z_{\\alpha/2} = 1.96\\))\n",
    "\n",
    "### Step-by-Step Calculation:\n",
    "\n",
    "#### Step 1: Calculate the margin of error.\n",
    "\\[\n",
    "\\text{Margin of error} = Z_{\\alpha/2} \\cdot \\left( \\frac{\\sigma}{\\sqrt{n}} \\right)\n",
    "= 1.96 \\cdot \\left( \\frac{5}{\\sqrt{30}} \\right)\n",
    "\\]\n",
    "\\[\n",
    "= 1.96 \\cdot \\left( \\frac{5}{5.477} \\right)\n",
    "= 1.96 \\cdot 0.913 = 1.79\n",
    "\\]\n",
    "\n",
    "#### Step 2: Calculate the confidence interval.\n",
    "\\[\n",
    "CI = \\bar{x} \\pm \\text{Margin of error}\n",
    "= 50 \\pm 1.79\n",
    "\\]\n",
    "\n",
    "So the 95% confidence interval is:\n",
    "\\[\n",
    "[50 - 1.79, 50 + 1.79] = [48.21, 51.79]\n",
    "\\]\n",
    "\n",
    "### Interpretation:\n",
    "We are 95% confident that the true population mean lies between **48.21 and 51.79**. This means that if we were to take multiple samples and compute confidence intervals, approximately 95% of them would contain the true population mean.\"\"\""
   ]
  },
  {
   "cell_type": "code",
   "execution_count": null,
   "id": "a6349998",
   "metadata": {},
   "outputs": [],
   "source": []
  }
 ],
 "metadata": {
  "kernelspec": {
   "display_name": "Python 3 (ipykernel)",
   "language": "python",
   "name": "python3"
  },
  "language_info": {
   "codemirror_mode": {
    "name": "ipython",
    "version": 3
   },
   "file_extension": ".py",
   "mimetype": "text/x-python",
   "name": "python",
   "nbconvert_exporter": "python",
   "pygments_lexer": "ipython3",
   "version": "3.10.9"
  }
 },
 "nbformat": 4,
 "nbformat_minor": 5
}
