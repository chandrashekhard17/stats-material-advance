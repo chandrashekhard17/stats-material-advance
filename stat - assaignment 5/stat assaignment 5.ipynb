{
 "cells": [
  {
   "cell_type": "code",
   "execution_count": 1,
   "id": "14c6e3cb",
   "metadata": {},
   "outputs": [
    {
     "data": {
      "text/plain": [
       "'Estimation statistics is a branch of statistics that deals with estimating population parameters based on sample data. The primary goal is to use sample data to make inferences about a population, typically in terms of a parameter like the population mean, proportion, or variance.\\n\\n### Types of Estimation:\\nThere are two main types of estimation in statistics: **point estimation** and **interval estimation**.\\n\\n### 1. Point Estimate:\\n- **Definition**: A point estimate is a single value used to approximate a population parameter. It provides a single best guess for an unknown parameter.\\n- **Example**: If you want to estimate the average height of adult men in a city, you might take a random sample and calculate the sample mean. This sample mean is a point estimate of the population mean.\\n\\n- **Common Point Estimates**:\\n  - Sample mean (\\\\(\\x08ar{x}\\\\)) for the population mean (\\\\(\\\\mu\\\\)).\\n  - Sample proportion (\\\\(\\\\hat{p}\\\\)) for the population proportion (\\\\(p\\\\)).\\n  - Sample variance (\\\\(s^2\\\\)) for the population variance (\\\\(\\\\sigma^2\\\\)).\\n\\n### 2. Interval Estimate:\\n- **Definition**: An interval estimate provides a range of values within which the population parameter is expected to lie, along with a specified level of confidence. Unlike a point estimate, an interval estimate accounts for the variability and uncertainty inherent in sampling.\\n- **Example**: Continuing with the height example, instead of just reporting the sample mean as an estimate, you might say that the average height of adult men in the city is between 170 cm and 180 cm with 95% confidence. This range is your interval estimate.\\n\\n- **Confidence Interval**: The most common form of interval estimate is the confidence interval. It has two components:\\n  - **Confidence Level**: The percentage that represents how confident you are that the interval contains the population parameter (e.g., 95% confidence level).\\n  - **Margin of Error**: The range of values above and below the point estimate within which the true parameter value is expected to fall.\\n\\n### Summary:\\n- **Point Estimate**: A single value estimate of a population parameter (e.g., sample mean).\\n- **Interval Estimate**: A range of values that likely includes the population parameter, with a given level of confidence (e.g., confidence interval). \\n\\nTogether, point and interval estimates provide complementary information about population parameters. Point estimates give a specific value, while interval estimates convey the uncertainty and reliability of that estimate.'"
      ]
     },
     "execution_count": 1,
     "metadata": {},
     "output_type": "execute_result"
    }
   ],
   "source": [
    "#1\n",
    "\"\"\"Estimation statistics is a branch of statistics that deals with estimating population parameters based on sample data. The primary goal is to use sample data to make inferences about a population, typically in terms of a parameter like the population mean, proportion, or variance.\n",
    "\n",
    "### Types of Estimation:\n",
    "There are two main types of estimation in statistics: **point estimation** and **interval estimation**.\n",
    "\n",
    "### 1. Point Estimate:\n",
    "- **Definition**: A point estimate is a single value used to approximate a population parameter. It provides a single best guess for an unknown parameter.\n",
    "- **Example**: If you want to estimate the average height of adult men in a city, you might take a random sample and calculate the sample mean. This sample mean is a point estimate of the population mean.\n",
    "\n",
    "- **Common Point Estimates**:\n",
    "  - Sample mean (\\(\\bar{x}\\)) for the population mean (\\(\\mu\\)).\n",
    "  - Sample proportion (\\(\\hat{p}\\)) for the population proportion (\\(p\\)).\n",
    "  - Sample variance (\\(s^2\\)) for the population variance (\\(\\sigma^2\\)).\n",
    "\n",
    "### 2. Interval Estimate:\n",
    "- **Definition**: An interval estimate provides a range of values within which the population parameter is expected to lie, along with a specified level of confidence. Unlike a point estimate, an interval estimate accounts for the variability and uncertainty inherent in sampling.\n",
    "- **Example**: Continuing with the height example, instead of just reporting the sample mean as an estimate, you might say that the average height of adult men in the city is between 170 cm and 180 cm with 95% confidence. This range is your interval estimate.\n",
    "\n",
    "- **Confidence Interval**: The most common form of interval estimate is the confidence interval. It has two components:\n",
    "  - **Confidence Level**: The percentage that represents how confident you are that the interval contains the population parameter (e.g., 95% confidence level).\n",
    "  - **Margin of Error**: The range of values above and below the point estimate within which the true parameter value is expected to fall.\n",
    "\n",
    "### Summary:\n",
    "- **Point Estimate**: A single value estimate of a population parameter (e.g., sample mean).\n",
    "- **Interval Estimate**: A range of values that likely includes the population parameter, with a given level of confidence (e.g., confidence interval). \n",
    "\n",
    "Together, point and interval estimates provide complementary information about population parameters. Point estimates give a specific value, while interval estimates convey the uncertainty and reliability of that estimate.\"\"\""
   ]
  },
  {
   "cell_type": "code",
   "execution_count": 2,
   "id": "50af4109",
   "metadata": {},
   "outputs": [],
   "source": [
    "#2\n",
    "import scipy.stats as stats\n",
    "import math\n",
    "\n",
    "def estimate_population_mean(sample_mean, sample_std_dev, sample_size, confidence_level=0.95):\n",
    "    \"\"\"\n",
    "    Estimate the population mean with a confidence interval.\n",
    "    \n",
    "    Parameters:\n",
    "    sample_mean (float): The sample mean.\n",
    "    sample_std_dev (float): The sample standard deviation.\n",
    "    sample_size (int): The number of samples.\n",
    "    confidence_level (float): The confidence level for the interval (default is 0.95 for 95% confidence).\n",
    "    \n",
    "    Returns:\n",
    "    tuple: A tuple containing the sample mean and the confidence interval (lower bound, upper bound).\n",
    "    \"\"\"\n",
    "    # Calculate the standard error of the mean\n",
    "    standard_error = sample_std_dev / math.sqrt(sample_size)\n",
    "    \n",
    "    # Find the z-score for the given confidence level\n",
    "    z_score = stats.norm.ppf((1 + confidence_level) / 2)\n",
    "    \n",
    "    # Calculate the margin of error\n",
    "    margin_of_error = z_score * standard_error\n",
    "    \n",
    "    # Calculate the confidence interval\n",
    "    confidence_interval = (sample_mean - margin_of_error, sample_mean + margin_of_error)\n",
    "    \n",
    "    return sample_mean, confidence_interval\n"
   ]
  },
  {
   "cell_type": "code",
   "execution_count": 3,
   "id": "cc013320",
   "metadata": {},
   "outputs": [
    {
     "name": "stdout",
     "output_type": "stream",
     "text": [
      "Estimated Population Mean: 100\n",
      "95% Confidence Interval: (94.63241756884852, 105.36758243115148)\n"
     ]
    }
   ],
   "source": [
    "sample_mean = 100  # Example sample mean\n",
    "sample_std_dev = 15  # Example sample standard deviation\n",
    "sample_size = 30  # Example sample size\n",
    "\n",
    "estimated_mean, confidence_interval = estimate_population_mean(sample_mean, sample_std_dev, sample_size)\n",
    "\n",
    "print(f\"Estimated Population Mean: {estimated_mean}\")\n",
    "print(f\"95% Confidence Interval: {confidence_interval}\")\n"
   ]
  },
  {
   "cell_type": "code",
   "execution_count": 4,
   "id": "9ee8a960",
   "metadata": {},
   "outputs": [
    {
     "data": {
      "text/plain": [
       "\"**Hypothesis Testing** is a statistical method used to make decisions or inferences about a population based on a sample of data. It helps determine whether there is enough evidence in a sample to support or reject a specific claim or hypothesis about the population.\\n\\n### **Key Components of Hypothesis Testing**:\\n1. **Null Hypothesis (H₀)**: This is the default or initial assumption that there is no effect, no difference, or no relationship in the population. It's what the test seeks to challenge.\\n   \\n2. **Alternative Hypothesis (H₁ or Ha)**: This is the hypothesis that contradicts the null hypothesis. It represents the claim or effect that the researcher wants to test.\\n\\n3. **Significance Level (α)**: This is the threshold for determining whether to reject the null hypothesis. Commonly, a significance level of 0.05 is used, meaning there is a 5% risk of concluding that a difference exists when there is no actual difference.\\n\\n4. **Test Statistic**: This is a standardized value calculated from sample data, used to compare against a critical value to decide whether to reject the null hypothesis.\\n\\n5. **P-value**: The p-value represents the probability of observing the test statistic or something more extreme, assuming the null hypothesis is true. A smaller p-value indicates stronger evidence against the null hypothesis.\\n\\n6. **Decision**: Based on the p-value or test statistic, the null hypothesis is either rejected or not rejected. If the p-value is less than or equal to the significance level (α), the null hypothesis is rejected in favor of the alternative hypothesis.\\n\\n### **Why is Hypothesis Testing Used?**\\nHypothesis testing is used to:\\n- **Make Data-Driven Decisions**: It allows researchers to make informed decisions based on empirical data rather than guesswork.\\n- **Validate Claims**: It provides a structured approach to testing the validity of claims or theories in various fields, including medicine, economics, psychology, and engineering.\\n- **Control Error Rates**: By defining significance levels and using statistical methods, hypothesis testing helps control the likelihood of making incorrect decisions (Type I and Type II errors).\\n\\n### **Importance of Hypothesis Testing**:\\n1. **Scientific Rigor**: Hypothesis testing introduces a formal process to test theories and claims, ensuring that conclusions are backed by data and statistical evidence.\\n  \\n2. **Objective Decision-Making**: It provides a clear, objective framework for decision-making, reducing personal bias and subjectivity.\\n\\n3. **Error Minimization**: Hypothesis testing helps minimize errors in decision-making by quantifying the risk of incorrect conclusions, helping to maintain accuracy and reliability.\\n\\n4. **Foundation for Research**: It is foundational in research, allowing for the testing of new ideas, theories, and innovations, thereby advancing knowledge in various fields.\\n\\n5. **Risk Management**: By assessing the likelihood of outcomes, hypothesis testing aids in risk management, especially in fields like finance and medicine, where decisions have significant consequences.\\n\\nIn summary, hypothesis testing is a vital tool in statistics that ensures decisions are made based on data, allowing for systematic evaluation and validation of claims across various disciplines.\""
      ]
     },
     "execution_count": 4,
     "metadata": {},
     "output_type": "execute_result"
    }
   ],
   "source": [
    "#3..\n",
    "\"\"\"**Hypothesis Testing** is a statistical method used to make decisions or inferences about a population based on a sample of data. It helps determine whether there is enough evidence in a sample to support or reject a specific claim or hypothesis about the population.\n",
    "\n",
    "### **Key Components of Hypothesis Testing**:\n",
    "1. **Null Hypothesis (H₀)**: This is the default or initial assumption that there is no effect, no difference, or no relationship in the population. It's what the test seeks to challenge.\n",
    "   \n",
    "2. **Alternative Hypothesis (H₁ or Ha)**: This is the hypothesis that contradicts the null hypothesis. It represents the claim or effect that the researcher wants to test.\n",
    "\n",
    "3. **Significance Level (α)**: This is the threshold for determining whether to reject the null hypothesis. Commonly, a significance level of 0.05 is used, meaning there is a 5% risk of concluding that a difference exists when there is no actual difference.\n",
    "\n",
    "4. **Test Statistic**: This is a standardized value calculated from sample data, used to compare against a critical value to decide whether to reject the null hypothesis.\n",
    "\n",
    "5. **P-value**: The p-value represents the probability of observing the test statistic or something more extreme, assuming the null hypothesis is true. A smaller p-value indicates stronger evidence against the null hypothesis.\n",
    "\n",
    "6. **Decision**: Based on the p-value or test statistic, the null hypothesis is either rejected or not rejected. If the p-value is less than or equal to the significance level (α), the null hypothesis is rejected in favor of the alternative hypothesis.\n",
    "\n",
    "### **Why is Hypothesis Testing Used?**\n",
    "Hypothesis testing is used to:\n",
    "- **Make Data-Driven Decisions**: It allows researchers to make informed decisions based on empirical data rather than guesswork.\n",
    "- **Validate Claims**: It provides a structured approach to testing the validity of claims or theories in various fields, including medicine, economics, psychology, and engineering.\n",
    "- **Control Error Rates**: By defining significance levels and using statistical methods, hypothesis testing helps control the likelihood of making incorrect decisions (Type I and Type II errors).\n",
    "\n",
    "### **Importance of Hypothesis Testing**:\n",
    "1. **Scientific Rigor**: Hypothesis testing introduces a formal process to test theories and claims, ensuring that conclusions are backed by data and statistical evidence.\n",
    "  \n",
    "2. **Objective Decision-Making**: It provides a clear, objective framework for decision-making, reducing personal bias and subjectivity.\n",
    "\n",
    "3. **Error Minimization**: Hypothesis testing helps minimize errors in decision-making by quantifying the risk of incorrect conclusions, helping to maintain accuracy and reliability.\n",
    "\n",
    "4. **Foundation for Research**: It is foundational in research, allowing for the testing of new ideas, theories, and innovations, thereby advancing knowledge in various fields.\n",
    "\n",
    "5. **Risk Management**: By assessing the likelihood of outcomes, hypothesis testing aids in risk management, especially in fields like finance and medicine, where decisions have significant consequences.\n",
    "\n",
    "In summary, hypothesis testing is a vital tool in statistics that ensures decisions are made based on data, allowing for systematic evaluation and validation of claims across various disciplines.\"\"\""
   ]
  },
  {
   "cell_type": "code",
   "execution_count": 5,
   "id": "c498e949",
   "metadata": {},
   "outputs": [
    {
     "data": {
      "text/plain": [
       "\"To estimate the population mean revenue with a 95% confidence interval, we'll use the sample data and apply the formula for the confidence interval for the mean. Given the sample size is large (\\\\( n \\\\geq 30 \\\\)), we use the Z-distribution.\\n\\n### **Given Data:**\\n- Sample mean (\\\\(\\x08ar{x}\\\\)) = $500\\n- Sample standard deviation (\\\\(s\\\\)) = $50\\n- Sample size (\\\\(n\\\\)) = 50\\n- Confidence level = 95%\\n\\n### **Steps to Calculate the 95% Confidence Interval:**\\n\\n1. **Determine the Z-value** for a 95% confidence level:\\n   - For a 95% confidence level, the Z-value (Z*) corresponding to the critical value from the standard normal distribution is approximately 1.96.\\n\\n2. **Calculate the standard error (SE)** of the mean:\\n   \\\\[\\n   SE = \\x0crac{s}{\\\\sqrt{n}} = \\x0crac{50}{\\\\sqrt{50}} \\x07pprox \\x0crac{50}{7.071} \\x07pprox 7.071\\n   \\\\]\\n\\n3. **Calculate the margin of error (ME):**\\n   \\\\[\\n   ME = Z^* \\times SE = 1.96 \\times 7.071 \\x07pprox 13.86\\n   \\\\]\\n\\n4. **Determine the confidence interval**:\\n   - The confidence interval is given by:\\n   \\\\[\\n   \\text{Confidence Interval} = \\x08ar{x} \\\\pm ME = 500 \\\\pm 13.86\\n   \\\\]\\n\\n   So, the confidence interval is approximately:\\n   \\\\[\\n   (500 - 13.86, 500 + 13.86) = (486.14, 513.86)\\n   \\\\]\\n\\n### **Conclusion:**\\nThe 95% confidence interval for the average daily revenue of the coffee shop is approximately **$486.14 to $513.86**. This means the coffee shop owner can be 95% confident that the true average daily revenue falls within this range.\""
      ]
     },
     "execution_count": 5,
     "metadata": {},
     "output_type": "execute_result"
    }
   ],
   "source": [
    "#14..\n",
    "\"\"\"To estimate the population mean revenue with a 95% confidence interval, we'll use the sample data and apply the formula for the confidence interval for the mean. Given the sample size is large (\\( n \\geq 30 \\)), we use the Z-distribution.\n",
    "\n",
    "### **Given Data:**\n",
    "- Sample mean (\\(\\bar{x}\\)) = $500\n",
    "- Sample standard deviation (\\(s\\)) = $50\n",
    "- Sample size (\\(n\\)) = 50\n",
    "- Confidence level = 95%\n",
    "\n",
    "### **Steps to Calculate the 95% Confidence Interval:**\n",
    "\n",
    "1. **Determine the Z-value** for a 95% confidence level:\n",
    "   - For a 95% confidence level, the Z-value (Z*) corresponding to the critical value from the standard normal distribution is approximately 1.96.\n",
    "\n",
    "2. **Calculate the standard error (SE)** of the mean:\n",
    "   \\[\n",
    "   SE = \\frac{s}{\\sqrt{n}} = \\frac{50}{\\sqrt{50}} \\approx \\frac{50}{7.071} \\approx 7.071\n",
    "   \\]\n",
    "\n",
    "3. **Calculate the margin of error (ME):**\n",
    "   \\[\n",
    "   ME = Z^* \\times SE = 1.96 \\times 7.071 \\approx 13.86\n",
    "   \\]\n",
    "\n",
    "4. **Determine the confidence interval**:\n",
    "   - The confidence interval is given by:\n",
    "   \\[\n",
    "   \\text{Confidence Interval} = \\bar{x} \\pm ME = 500 \\pm 13.86\n",
    "   \\]\n",
    "\n",
    "   So, the confidence interval is approximately:\n",
    "   \\[\n",
    "   (500 - 13.86, 500 + 13.86) = (486.14, 513.86)\n",
    "   \\]\n",
    "\n",
    "### **Conclusion:**\n",
    "The 95% confidence interval for the average daily revenue of the coffee shop is approximately **$486.14 to $513.86**. This means the coffee shop owner can be 95% confident that the true average daily revenue falls within this range.\"\"\""
   ]
  },
  {
   "cell_type": "code",
   "execution_count": 6,
   "id": "86b73dd8",
   "metadata": {},
   "outputs": [
    {
     "data": {
      "text/plain": [
       "'To test the hypothesis that the true mean weight of the products is less than 5 pounds, we will perform a one-tailed Z-test. Here’s how we approach it step-by-step:\\n\\n### **Given Data:**\\n- Population mean (\\\\(\\\\mu_0\\\\)) = 5 pounds\\n- Population standard deviation (\\\\(\\\\sigma\\\\)) = 0.5 pounds\\n- Sample mean (\\\\(\\x08ar{x}\\\\)) = 4.8 pounds\\n- Sample size (\\\\(n\\\\)) = 25\\n- Significance level (\\\\(\\x07lpha\\\\)) = 0.01\\n\\n### **Step 1: State the Hypotheses**\\n\\n- **Null Hypothesis (H₀):** The null hypothesis states that the true mean weight of the products is 5 pounds.\\n  \\\\[\\n  H₀: \\\\mu = 5 \\text{ pounds}\\n  \\\\]\\n\\n- **Alternative Hypothesis (H₁):** The alternative hypothesis states that the true mean weight of the products is less than 5 pounds.\\n  \\\\[\\n  H₁: \\\\mu < 5 \\text{ pounds}\\n  \\\\]\\n  This is a one-tailed test.\\n\\n### **Step 2: Calculate the Test Statistic (Z)**\\n\\nThe formula for the Z-test statistic is:\\n\\\\[\\nZ = \\x0crac{\\x08ar{x} - \\\\mu_0}{\\x0crac{\\\\sigma}{\\\\sqrt{n}}}\\n\\\\]\\n\\nSubstitute the given values:\\n- Sample mean (\\\\(\\x08ar{x}\\\\)) = 4.8 pounds\\n- Population mean (\\\\(\\\\mu_0\\\\)) = 5 pounds\\n- Population standard deviation (\\\\(\\\\sigma\\\\)) = 0.5 pounds\\n- Sample size (\\\\(n\\\\)) = 25\\n\\nFirst, calculate the standard error (SE):\\n\\\\[\\nSE = \\x0crac{\\\\sigma}{\\\\sqrt{n}} = \\x0crac{0.5}{\\\\sqrt{25}} = \\x0crac{0.5}{5} = 0.1\\n\\\\]\\n\\nNow, calculate the Z-value:\\n\\\\[\\nZ = \\x0crac{4.8 - 5}{0.1} = \\x0crac{-0.2}{0.1} = -2\\n\\\\]\\n\\n### **Step 3: Determine the Critical Value for a 0.01 Significance Level**\\n\\n- For a one-tailed test at the 0.01 significance level, the critical Z-value is approximately \\\\(-2.33\\\\). \\n\\n### **Step 4: Compare the Test Statistic to the Critical Value**\\n\\n- If the calculated Z-value is less than the critical Z-value (\\\\(-2 < -2.33\\\\)), we reject the null hypothesis.\\n\\n### **Conclusion:**\\n\\nSince the calculated Z-value (\\\\(-2\\\\)) is greater than the critical value (\\\\(-2.33\\\\)), we **fail to reject the null hypothesis** at the 0.01 significance level.\\n\\nThis means that there is not enough evidence at the 0.01 significance level to conclude that the true mean weight of the products is less than 5 pounds.'"
      ]
     },
     "execution_count": 6,
     "metadata": {},
     "output_type": "execute_result"
    }
   ],
   "source": [
    "#15..\n",
    "\"\"\"To test the hypothesis that the true mean weight of the products is less than 5 pounds, we will perform a one-tailed Z-test. Here’s how we approach it step-by-step:\n",
    "\n",
    "### **Given Data:**\n",
    "- Population mean (\\(\\mu_0\\)) = 5 pounds\n",
    "- Population standard deviation (\\(\\sigma\\)) = 0.5 pounds\n",
    "- Sample mean (\\(\\bar{x}\\)) = 4.8 pounds\n",
    "- Sample size (\\(n\\)) = 25\n",
    "- Significance level (\\(\\alpha\\)) = 0.01\n",
    "\n",
    "### **Step 1: State the Hypotheses**\n",
    "\n",
    "- **Null Hypothesis (H₀):** The null hypothesis states that the true mean weight of the products is 5 pounds.\n",
    "  \\[\n",
    "  H₀: \\mu = 5 \\text{ pounds}\n",
    "  \\]\n",
    "\n",
    "- **Alternative Hypothesis (H₁):** The alternative hypothesis states that the true mean weight of the products is less than 5 pounds.\n",
    "  \\[\n",
    "  H₁: \\mu < 5 \\text{ pounds}\n",
    "  \\]\n",
    "  This is a one-tailed test.\n",
    "\n",
    "### **Step 2: Calculate the Test Statistic (Z)**\n",
    "\n",
    "The formula for the Z-test statistic is:\n",
    "\\[\n",
    "Z = \\frac{\\bar{x} - \\mu_0}{\\frac{\\sigma}{\\sqrt{n}}}\n",
    "\\]\n",
    "\n",
    "Substitute the given values:\n",
    "- Sample mean (\\(\\bar{x}\\)) = 4.8 pounds\n",
    "- Population mean (\\(\\mu_0\\)) = 5 pounds\n",
    "- Population standard deviation (\\(\\sigma\\)) = 0.5 pounds\n",
    "- Sample size (\\(n\\)) = 25\n",
    "\n",
    "First, calculate the standard error (SE):\n",
    "\\[\n",
    "SE = \\frac{\\sigma}{\\sqrt{n}} = \\frac{0.5}{\\sqrt{25}} = \\frac{0.5}{5} = 0.1\n",
    "\\]\n",
    "\n",
    "Now, calculate the Z-value:\n",
    "\\[\n",
    "Z = \\frac{4.8 - 5}{0.1} = \\frac{-0.2}{0.1} = -2\n",
    "\\]\n",
    "\n",
    "### **Step 3: Determine the Critical Value for a 0.01 Significance Level**\n",
    "\n",
    "- For a one-tailed test at the 0.01 significance level, the critical Z-value is approximately \\(-2.33\\). \n",
    "\n",
    "### **Step 4: Compare the Test Statistic to the Critical Value**\n",
    "\n",
    "- If the calculated Z-value is less than the critical Z-value (\\(-2 < -2.33\\)), we reject the null hypothesis.\n",
    "\n",
    "### **Conclusion:**\n",
    "\n",
    "Since the calculated Z-value (\\(-2\\)) is greater than the critical value (\\(-2.33\\)), we **fail to reject the null hypothesis** at the 0.01 significance level.\n",
    "\n",
    "This means that there is not enough evidence at the 0.01 significance level to conclude that the true mean weight of the products is less than 5 pounds.\"\"\""
   ]
  },
  {
   "cell_type": "code",
   "execution_count": null,
   "id": "a309c327",
   "metadata": {},
   "outputs": [],
   "source": []
  }
 ],
 "metadata": {
  "kernelspec": {
   "display_name": "Python 3 (ipykernel)",
   "language": "python",
   "name": "python3"
  },
  "language_info": {
   "codemirror_mode": {
    "name": "ipython",
    "version": 3
   },
   "file_extension": ".py",
   "mimetype": "text/x-python",
   "name": "python",
   "nbconvert_exporter": "python",
   "pygments_lexer": "ipython3",
   "version": "3.10.9"
  }
 },
 "nbformat": 4,
 "nbformat_minor": 5
}
